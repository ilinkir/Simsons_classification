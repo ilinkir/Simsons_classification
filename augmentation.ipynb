{
 "cells": [
  {
   "cell_type": "code",
   "execution_count": null,
   "metadata": {},
   "outputs": [],
   "source": [
    "import Augmentor\n",
    "import os"
   ]
  },
  {
   "cell_type": "code",
   "execution_count": 29,
   "metadata": {},
   "outputs": [
    {
     "data": {
      "text/plain": [
       "['agnes_skinner',\n",
       " 'carl_carlson',\n",
       " 'cletus_spuckler',\n",
       " 'disco_stu',\n",
       " 'fat_tony',\n",
       " 'gil',\n",
       " 'lionel_hutz',\n",
       " 'martin_prince',\n",
       " 'miss_hoover',\n",
       " 'otto_mann',\n",
       " 'patty_bouvier',\n",
       " 'professor_john_frink',\n",
       " 'rainier_wolfcastle',\n",
       " 'ralph_wiggum',\n",
       " 'sideshow_mel',\n",
       " 'snake_jailbird',\n",
       " 'troy_mcclure']"
      ]
     },
     "execution_count": 29,
     "metadata": {},
     "output_type": "execute_result"
    }
   ],
   "source": [
    "path_to_dataset = \"G:\\\\dataset\\\\simpsond\\\\train\\\\simpsons_dataset\"\n",
    "files = os.listdir(path=path_to_dataset)\n",
    "folder_m = []\n",
    "for file in files:\n",
    "    path_1 = path_to_dataset+\"\\\\%s\"%file\n",
    "    if len(os.listdir(path=path_1)) < 100:\n",
    "        folder_m.append(file)\n",
    "folder_m # Find all classes where < 100 images"
   ]
  },
  {
   "cell_type": "code",
   "execution_count": 30,
   "metadata": {},
   "outputs": [
    {
     "name": "stderr",
     "output_type": "stream",
     "text": [
      "Processing <PIL.Image.Image image mode=RGB size=312x352 at 0x26497A04FD0>:   7%| | 7/100 [00:00<00:02, 39.89 Samples/s]"
     ]
    },
    {
     "name": "stdout",
     "output_type": "stream",
     "text": [
      "Initialised with 42 image(s) found.\n",
      "Output directory set to G:\\dataset\\simpsond\\train\\simpsons_dataset\\agnes_skinner\\output."
     ]
    },
    {
     "name": "stderr",
     "output_type": "stream",
     "text": [
      "Processing <PIL.Image.Image image mode=RGB size=312x352 at 0x264968CE5E0>: 100%|█| 100/100 [00:00<00:00, 282.32 Samples\n",
      "Processing <PIL.Image.Image image mode=RGB size=288x432 at 0x26497404CD0>:   6%| | 6/100 [00:00<00:04, 19.95 Samples/s]"
     ]
    },
    {
     "name": "stdout",
     "output_type": "stream",
     "text": [
      "Initialised with 98 image(s) found.\n",
      "Output directory set to G:\\dataset\\simpsond\\train\\simpsons_dataset\\carl_carlson\\output."
     ]
    },
    {
     "name": "stderr",
     "output_type": "stream",
     "text": [
      "Processing <PIL.Image.Image image mode=RGB size=320x480 at 0x264966C1C10>: 100%|█| 100/100 [00:00<00:00, 282.32 Samples\n",
      "Processing <PIL.Image.Image image mode=RGB size=320x480 at 0x26496C0C820>:  10%| | 10/100 [00:00<00:01, 59.84 Samples/s"
     ]
    },
    {
     "name": "stdout",
     "output_type": "stream",
     "text": [
      "Initialised with 47 image(s) found.\n",
      "Output directory set to G:\\dataset\\simpsond\\train\\simpsons_dataset\\cletus_spuckler\\output."
     ]
    },
    {
     "name": "stderr",
     "output_type": "stream",
     "text": [
      "Processing <PIL.Image.Image image mode=RGB size=312x352 at 0x264966B8700>: 100%|█| 100/100 [00:00<00:00, 282.32 Samples\n",
      "Processing <PIL.JpegImagePlugin.JpegImageFile image mode=RGB size=576x432 at 0x26497A04BB0>:   6%| | 6/100 [00:00<00:01"
     ]
    },
    {
     "name": "stdout",
     "output_type": "stream",
     "text": [
      "Initialised with 8 image(s) found.\n",
      "Output directory set to G:\\dataset\\simpsond\\train\\simpsons_dataset\\disco_stu\\output."
     ]
    },
    {
     "name": "stderr",
     "output_type": "stream",
     "text": [
      "Processing <PIL.Image.Image image mode=RGB size=320x464 at 0x264966DB130>: 100%|█| 100/100 [00:00<00:00, 316.01 Samples\n",
      "Processing <PIL.Image.Image image mode=RGB size=640x480 at 0x2649794BA00>:  11%| | 11/100 [00:00<00:01, 49.86 Samples/s"
     ]
    },
    {
     "name": "stdout",
     "output_type": "stream",
     "text": [
      "Initialised with 27 image(s) found.\n",
      "Output directory set to G:\\dataset\\simpsond\\train\\simpsons_dataset\\fat_tony\\output."
     ]
    },
    {
     "name": "stderr",
     "output_type": "stream",
     "text": [
      "Processing <PIL.JpegImagePlugin.JpegImageFile image mode=RGB size=320x480 at 0x2649731A550>: 100%|█| 100/100 [00:00<00:\n",
      "Processing <PIL.Image.Image image mode=RGB size=264x400 at 0x26496DCEFA0>:  12%| | 12/100 [00:00<00:01, 56.19 Samples/s"
     ]
    },
    {
     "name": "stdout",
     "output_type": "stream",
     "text": [
      "Initialised with 27 image(s) found.\n",
      "Output directory set to G:\\dataset\\simpsond\\train\\simpsons_dataset\\gil\\output."
     ]
    },
    {
     "name": "stderr",
     "output_type": "stream",
     "text": [
      "Processing <PIL.Image.Image image mode=RGB size=624x352 at 0x26496C0C8B0>: 100%|█| 100/100 [00:00<00:00, 350.65 Samples\n",
      "Processing <PIL.Image.Image image mode=RGB size=528x400 at 0x26496DE5550>:   5%| | 5/100 [00:00<00:03, 29.92 Samples/s]"
     ]
    },
    {
     "name": "stdout",
     "output_type": "stream",
     "text": [
      "Initialised with 3 image(s) found.\n",
      "Output directory set to G:\\dataset\\simpsond\\train\\simpsons_dataset\\lionel_hutz\\output."
     ]
    },
    {
     "name": "stderr",
     "output_type": "stream",
     "text": [
      "Processing <PIL.Image.Image image mode=RGB size=528x400 at 0x264966C3B80>: 100%|█| 100/100 [00:00<00:00, 244.79 Samples\n",
      "Processing <PIL.Image.Image image mode=RGB size=576x416 at 0x26496DB0490>:   8%| | 8/100 [00:00<00:03, 29.92 Samples/s]"
     ]
    },
    {
     "name": "stdout",
     "output_type": "stream",
     "text": [
      "Initialised with 71 image(s) found.\n",
      "Output directory set to G:\\dataset\\simpsond\\train\\simpsons_dataset\\martin_prince\\output."
     ]
    },
    {
     "name": "stderr",
     "output_type": "stream",
     "text": [
      "Processing <PIL.Image.Image image mode=RGB size=576x416 at 0x26496C156D0>: 100%|█| 100/100 [00:00<00:00, 316.01 Samples\n",
      "Processing <PIL.Image.Image image mode=RGB size=288x432 at 0x26497412CA0>:   8%| | 8/100 [00:00<00:03, 25.88 Samples/s]"
     ]
    },
    {
     "name": "stdout",
     "output_type": "stream",
     "text": [
      "Initialised with 17 image(s) found.\n",
      "Output directory set to G:\\dataset\\simpsond\\train\\simpsons_dataset\\miss_hoover\\output."
     ]
    },
    {
     "name": "stderr",
     "output_type": "stream",
     "text": [
      "Processing <PIL.Image.Image image mode=RGB size=288x416 at 0x26496DE5D30>: 100%|█| 100/100 [00:00<00:00, 287.60 Samples\n",
      "Processing <PIL.Image.Image image mode=RGB size=320x480 at 0x2649731A430>:   2%| | 2/100 [00:00<00:09,  9.97 Samples/s]"
     ]
    },
    {
     "name": "stdout",
     "output_type": "stream",
     "text": [
      "Initialised with 32 image(s) found.\n",
      "Output directory set to G:\\dataset\\simpsond\\train\\simpsons_dataset\\otto_mann\\output."
     ]
    },
    {
     "name": "stderr",
     "output_type": "stream",
     "text": [
      "Processing <PIL.Image.Image image mode=RGB size=312x352 at 0x26496C15A00>: 100%|█| 100/100 [00:00<00:00, 231.63 Samples\n",
      "Processing <PIL.Image.Image image mode=RGB size=256x384 at 0x26496C15760>:  18%|▏| 18/100 [00:00<00:01, 81.29 Samples/s"
     ]
    },
    {
     "name": "stdout",
     "output_type": "stream",
     "text": [
      "Initialised with 72 image(s) found.\n",
      "Output directory set to G:\\dataset\\simpsond\\train\\simpsons_dataset\\patty_bouvier\\output."
     ]
    },
    {
     "name": "stderr",
     "output_type": "stream",
     "text": [
      "Processing <PIL.Image.Image image mode=RGB size=288x432 at 0x2649794B0D0>: 100%|█| 100/100 [00:00<00:00, 412.06 Samples\n",
      "Processing <PIL.Image.Image image mode=RGB size=640x464 at 0x26497404CA0>:   8%| | 8/100 [00:00<00:04, 19.95 Samples/s]"
     ]
    },
    {
     "name": "stdout",
     "output_type": "stream",
     "text": [
      "Initialised with 65 image(s) found.\n",
      "Output directory set to G:\\dataset\\simpsond\\train\\simpsons_dataset\\professor_john_frink\\output."
     ]
    },
    {
     "name": "stderr",
     "output_type": "stream",
     "text": [
      "Processing <PIL.JpegImagePlugin.JpegImageFile image mode=RGB size=576x416 at 0x26497A06760>: 100%|█| 100/100 [00:00<00:\n",
      "Processing <PIL.JpegImagePlugin.JpegImageFile image mode=RGB size=576x416 at 0x26496DE5B80>:   9%| | 9/100 [00:00<00:02"
     ]
    },
    {
     "name": "stdout",
     "output_type": "stream",
     "text": [
      "Initialised with 45 image(s) found.\n",
      "Output directory set to G:\\dataset\\simpsond\\train\\simpsons_dataset\\rainier_wolfcastle\\output."
     ]
    },
    {
     "name": "stderr",
     "output_type": "stream",
     "text": [
      "Processing <PIL.Image.Image image mode=RGB size=576x432 at 0x26496DE5B20>: 100%|█| 100/100 [00:00<00:00, 311.29 Samples\n",
      "Processing <PIL.JpegImagePlugin.JpegImageFile image mode=RGB size=288x416 at 0x26496C0C970>:   4%| | 4/100 [00:00<00:11"
     ]
    },
    {
     "name": "stdout",
     "output_type": "stream",
     "text": [
      "Initialised with 89 image(s) found.\n",
      "Output directory set to G:\\dataset\\simpsond\\train\\simpsons_dataset\\ralph_wiggum\\output."
     ]
    },
    {
     "name": "stderr",
     "output_type": "stream",
     "text": [
      "Processing <PIL.Image.Image image mode=RGB size=576x416 at 0x26497401E50>: 100%|█| 100/100 [00:00<00:00, 273.20 Samples\n",
      "Processing <PIL.Image.Image image mode=RGB size=496x368 at 0x26496C15460>:   7%| | 7/100 [00:00<00:05, 18.05 Samples/s]"
     ]
    },
    {
     "name": "stdout",
     "output_type": "stream",
     "text": [
      "Initialised with 40 image(s) found.\n",
      "Output directory set to G:\\dataset\\simpsond\\train\\simpsons_dataset\\sideshow_mel\\output."
     ]
    },
    {
     "name": "stderr",
     "output_type": "stream",
     "text": [
      "Processing <PIL.Image.Image image mode=RGB size=640x480 at 0x26496DE59A0>: 100%|█| 100/100 [00:00<00:00, 260.01 Samples\n",
      "Processing <PIL.Image.Image image mode=RGB size=264x400 at 0x26496DE8190>:  13%|▏| 13/100 [00:00<00:01, 74.92 Samples/s"
     ]
    },
    {
     "name": "stdout",
     "output_type": "stream",
     "text": [
      "Initialised with 55 image(s) found.\n",
      "Output directory set to G:\\dataset\\simpsond\\train\\simpsons_dataset\\snake_jailbird\\output."
     ]
    },
    {
     "name": "stderr",
     "output_type": "stream",
     "text": [
      "Processing <PIL.JpegImagePlugin.JpegImageFile image mode=RGB size=640x480 at 0x2649795CF40>: 100%|█| 100/100 [00:00<00:\n",
      "Processing <PIL.Image.Image image mode=RGB size=640x480 at 0x26496FA9F70>:  14%|▏| 14/100 [00:00<00:04, 19.95 Samples/s"
     ]
    },
    {
     "name": "stdout",
     "output_type": "stream",
     "text": [
      "Initialised with 8 image(s) found.\n",
      "Output directory set to G:\\dataset\\simpsond\\train\\simpsons_dataset\\troy_mcclure\\output."
     ]
    },
    {
     "name": "stderr",
     "output_type": "stream",
     "text": [
      "Processing <PIL.Image.Image image mode=RGB size=640x480 at 0x264966C1D90>: 100%|█| 100/100 [00:00<00:00, 206.85 Samples\n"
     ]
    }
   ],
   "source": [
    "path_to_dataset = \"G:\\\\dataset\\\\simpsond\\\\train\\\\simpsons_dataset\\\\\"\n",
    "for path_1 in folder_m:\n",
    "    p = Augmentor.Pipeline(path_to_dataset+\"%s\"%path_1)\n",
    "    p.rotate(probability=0.7, max_left_rotation=15, max_right_rotation=15)\n",
    "    p.zoom(probability=0.5, min_factor=1.1, max_factor=1.3)\n",
    "    p.flip_left_right(probability=0.2)\n",
    "    p.random_brightness(probability = 0.1, min_factor = 0.5, max_factor = 0.8)\n",
    "    p.sample(100)"
   ]
  }
 ],
 "metadata": {
  "kernelspec": {
   "display_name": "Python 3",
   "language": "python",
   "name": "python3"
  },
  "language_info": {
   "codemirror_mode": {
    "name": "ipython",
    "version": 3
   },
   "file_extension": ".py",
   "mimetype": "text/x-python",
   "name": "python",
   "nbconvert_exporter": "python",
   "pygments_lexer": "ipython3",
   "version": "3.8.3"
  }
 },
 "nbformat": 4,
 "nbformat_minor": 4
}
